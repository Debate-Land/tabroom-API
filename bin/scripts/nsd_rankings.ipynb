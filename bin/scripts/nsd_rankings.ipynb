{
 "cells": [
  {
   "cell_type": "code",
   "execution_count": 31,
   "metadata": {},
   "outputs": [],
   "source": [
    "import requests"
   ]
  },
  {
   "cell_type": "code",
   "execution_count": 32,
   "metadata": {},
   "outputs": [],
   "source": [
    "SEASON = 16\n",
    "CIRCUIT = 27"
   ]
  },
  {
   "cell_type": "code",
   "execution_count": 33,
   "metadata": {},
   "outputs": [],
   "source": [
    "API_BASE = \"http://localhost:8080/core/v1\"\n",
    "\n",
    "rankings = requests.post(f\"{API_BASE}/rankings/teams/advanced/findMany\", json={\n",
    "    \"where\": {\n",
    "        \"circuitId\": CIRCUIT,\n",
    "        \"seasonId\": SEASON\n",
    "    },\n",
    "    \"include\": {\n",
    "        \"team\": {\n",
    "            \"include\": {\n",
    "                \"aliases\": True,\n",
    "                \"schools\": True,\n",
    "                \"competitors\": True\n",
    "            }\n",
    "        }\n",
    "    },\n",
    "    \"orderBy\": {\n",
    "        \"otr\": \"desc\"\n",
    "    },\n",
    "    \"take\": 500\n",
    "}).json()"
   ]
  },
  {
   "cell_type": "code",
   "execution_count": 35,
   "metadata": {},
   "outputs": [],
   "source": [
    "txt = \"\"\n",
    "\n",
    "for i, ranking in enumerate(rankings):\n",
    "    names = \" & \".join(list(map(lambda c: c['name'], ranking['team']['competitors'])))\n",
    "    slug = ranking['teamId']\n",
    "    cId = \"639c35238adaf026b70245bf\"\n",
    "    iId = \"65af060bebaaa04f4bd4fe5a\"\n",
    "    d = \"Tue Jan 23 2024 00:19:23 GMT+0000 (Coordinated Universal Time)\"\n",
    "    r = i+1\n",
    "    s = ranking['team']['aliases'][0]['code'] if len(ranking['team']['aliases']) else ranking['team']['schools'][0]['name']\n",
    "    otr = round(ranking['otr'], 2)\n",
    "    url = f\"https://debate.land/teams/{ranking['teamId']}?seasons={SEASON}&circuits={CIRCUIT}\"\n",
    "    afil = \"TRUE\" if ranking['team']['metadata'] and ranking['team']['metadata']['nsdAlum'] else \"FALSE\"\n",
    "\n",
    "    txt += f\"{names},{slug},{cId},{iId},{d},{d},{d},{r},{s},{otr},{url},{afil}\\n\""
   ]
  },
  {
   "cell_type": "code",
   "execution_count": 36,
   "metadata": {},
   "outputs": [],
   "source": [
    "with open(\"rankings.csv\", \"w\") as f:\n",
    "    f.write(txt)"
   ]
  },
  {
   "cell_type": "code",
   "execution_count": null,
   "metadata": {},
   "outputs": [],
   "source": []
  }
 ],
 "metadata": {
  "kernelspec": {
   "display_name": ".venv",
   "language": "python",
   "name": "python3"
  },
  "language_info": {
   "codemirror_mode": {
    "name": "ipython",
    "version": 3
   },
   "file_extension": ".py",
   "mimetype": "text/x-python",
   "name": "python",
   "nbconvert_exporter": "python",
   "pygments_lexer": "ipython3",
   "version": "3.11.4"
  }
 },
 "nbformat": 4,
 "nbformat_minor": 2
}
