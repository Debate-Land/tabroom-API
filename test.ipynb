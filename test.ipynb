{
 "cells": [
  {
   "cell_type": "code",
   "execution_count": 16,
   "metadata": {},
   "outputs": [],
   "source": [
    "import csv\n",
    "from datetime import date, datetime\n",
    "import requests\n",
    "from pprint import pprint"
   ]
  },
  {
   "cell_type": "code",
   "execution_count": 17,
   "metadata": {},
   "outputs": [],
   "source": [
    "def get_divisions():\n",
    "    return requests.get(f\"http://localhost:8080/core/v1/tournament-divisions?expand=tournament\").json()"
   ]
  },
  {
   "cell_type": "code",
   "execution_count": 18,
   "metadata": {},
   "outputs": [],
   "source": [
    "def reset_topics(ids):\n",
    "    for id in ids:\n",
    "        requests.patch(f\"http://localhost:8080/core/v1/tournament-divisions/{id}\", json={\n",
    "            'topic': {\n",
    "                'disconnect': True\n",
    "            }\n",
    "        })"
   ]
  },
  {
   "cell_type": "code",
   "execution_count": 19,
   "metadata": {},
   "outputs": [],
   "source": [
    "divisions = get_divisions()\n",
    "\n",
    "reset_topics(list(map(lambda d: d['id'], divisions)))\n",
    "\n",
    "with open(\"topics.csv\", \"r\") as f:\n",
    "    table = csv.reader(f)\n",
    "    rows = list(table)[1:]\n",
    "    rows.reverse()\n",
    "\n",
    "    resolution_2_id = {}\n",
    "    updated_division_ids = []\n",
    "\n",
    "    for row in rows:\n",
    "        data = requests.post(\"http://localhost:8080/core/v1/topics\", json={\n",
    "            'resolution': row[1],\n",
    "            'event': 'PublicForum',\n",
    "            'nickname': \"\",\n",
    "            'tags': {\n",
    "                'connectOrCreate': list(map(lambda t: {\n",
    "                    'where': {\n",
    "                        'tag': t\n",
    "                    },\n",
    "                    'create': {\n",
    "                        'tag': t\n",
    "                    }\n",
    "                }, row[2].split(';')))\n",
    "            }\n",
    "        }).json()\n",
    "\n",
    "        resolution_2_id[row[1]] = data['id']\n",
    "\n",
    "    for row in rows:\n",
    "        (m, y) = row[0].split('/')\n",
    "        topic_start = date(year=int(y) + 2000, month=int(m), day=1)\n",
    "\n",
    "        for division in divisions:\n",
    "            if division['topicId'] is not None or division['id'] in updated_division_ids: continue\n",
    "            tourn_start = datetime.strptime(division['tournament']['start'], \"%Y-%m-%dT%H:%M:%S.%f%z\").date()\n",
    "\n",
    "            if topic_start <= tourn_start:\n",
    "                requests.patch(f\"http://localhost:8080/core/v1/tournament-divisions/{division['id']}\", json={\n",
    "                    'topic': {\n",
    "                        'connect': {\n",
    "                            'id': resolution_2_id[row[1]]\n",
    "                        }\n",
    "                    }\n",
    "                })\n",
    "                updated_division_ids.append(division['id'])"
   ]
  }
 ],
 "metadata": {
  "kernelspec": {
   "display_name": ".venv",
   "language": "python",
   "name": "python3"
  },
  "language_info": {
   "codemirror_mode": {
    "name": "ipython",
    "version": 3
   },
   "file_extension": ".py",
   "mimetype": "text/x-python",
   "name": "python",
   "nbconvert_exporter": "python",
   "pygments_lexer": "ipython3",
   "version": "3.11.4"
  }
 },
 "nbformat": 4,
 "nbformat_minor": 2
}
